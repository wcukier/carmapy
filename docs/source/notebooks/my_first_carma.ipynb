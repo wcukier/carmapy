{
 "cells": [
  {
   "cell_type": "markdown",
   "id": "4bf1ea62",
   "metadata": {},
   "source": [
    "# My First Carma Object Model\n",
    "\n",
    "We are going to start by importing carmapy and creating a carma object.  Each carma object has a name that corresponds with a path to a directory that will be created upon running the model to house the model and its output—we will name this carma object \"my_first_carma\""
   ]
  },
  {
   "cell_type": "code",
   "execution_count": null,
   "id": "f69e89b1",
   "metadata": {},
   "outputs": [],
   "source": [
    "import carmapy\n",
    "\n",
    "carma = carmapy.Carma(\"my_first_carma\")"
   ]
  },
  {
   "cell_type": "markdown",
   "id": "a9fc3183",
   "metadata": {},
   "source": [
    "## Setting Time Steps\n",
    "\n",
    "We will now tell carmapy its timestep, along with how often to output data, and how many timesteps to run"
   ]
  },
  {
   "cell_type": "code",
   "execution_count": 28,
   "id": "5a1ffd7b",
   "metadata": {},
   "outputs": [],
   "source": [
    "carma.set_stepping(dt=250, output_gap=10, n_tstep=100)"
   ]
  },
  {
   "cell_type": "markdown",
   "id": "1bf67436",
   "metadata": {},
   "source": [
    "The parameters tell carmapy the following\n",
    " - `dt` is the time step, in seconds\n",
    " - `output_gap` is the number of time steps between each time the CARMA simulation writes to file\n",
    " - `n_tstep` is the total number of timesteps to run CARMA for"
   ]
  },
  {
   "cell_type": "markdown",
   "id": "14b00f2d",
   "metadata": {},
   "source": [
    "## Setting Atmospheric Structure and Physical Parameters\n",
    "\n",
    "For this example we will use the example atmopsheric structure that is included in carmapy but you of course can provide your own.  This atmospheric structure comes from a sonora diamondback ([Morley et al. 2024](https://doi.org/10.48550/arXiv.2402.00758)) run of a 1000 K solar-metalicity brown dwarf with a surface gravity of 31,600 cm/s² ($f_\\text{sed} = 4$)"
   ]
  },
  {
   "cell_type": "code",
   "execution_count": 29,
   "id": "64830852",
   "metadata": {},
   "outputs": [],
   "source": [
    "P_levs, T_levs, kzz_levs, mu_levs = carmapy.example.example_levels()\n",
    "\n",
    "carma.add_P(P_levs)\n",
    "carma.add_T(T_levs)\n",
    "carma.add_kzz(kzz_levs)"
   ]
  },
  {
   "cell_type": "markdown",
   "id": "91e03cf0",
   "metadata": {},
   "source": [
    "Note that all of the inputs to carmapy are in cgs units so the units of `P_levs` is baryes, `T_levs` is in K, and `kzz_levs` is in cm²/s.  Each of these arrays are \"levels\" arrays which mean they describe the atmosphere at the boundary between layers—carmapy will model the formation of clouds at the \"centers\" location, between each of the provided \"levels\" locations.  Thus, if you want $N$ locations vertically where clouds might form, your \"levels\" arrays must be $N+1$ elements long.\n",
    "\n",
    "We also need to specify the surface gravity and the mean molecular weight of the atmosphere.  While our mean molecular weight varies throughout the atmosphere, carmapy requires a single value of the mean molecular weight to represent the entire atmosphere—in this case we will use the mean molecular weight at the bottom of the atmosphere"
   ]
  },
  {
   "cell_type": "code",
   "execution_count": 30,
   "id": "9b923e09",
   "metadata": {},
   "outputs": [],
   "source": [
    "carma.set_physical_params(surface_grav=31600,\n",
    "                            wt_mol=mu_levs[0])"
   ]
  },
  {
   "cell_type": "markdown",
   "id": "ba8caa34",
   "metadata": {},
   "source": [
    "Here we set the surface gravity to 31,600 cm/s² using the `surface_grav` argument and the mean molecular weight to the mean molecular weight at the bottom of our atmosphere using the `wt_mol` argument.\n",
    "\n",
    "Since we do not have altitude levels, we can tell carmapy to calculate the altitudes for us."
   ]
  },
  {
   "cell_type": "code",
   "execution_count": 31,
   "id": "e8c0be56",
   "metadata": {},
   "outputs": [],
   "source": [
    "carma.calculate_z()"
   ]
  },
  {
   "cell_type": "markdown",
   "id": "7cf055fb",
   "metadata": {},
   "source": [
    "Since we have them, we can instead optionally use the complete mean molecular weight profile of our atmosphere for added accuracy:"
   ]
  },
  {
   "cell_type": "code",
   "execution_count": 32,
   "id": "a19bd7f2",
   "metadata": {},
   "outputs": [],
   "source": [
    "carma.calculate_z(mu_levs)"
   ]
  },
  {
   "cell_type": "markdown",
   "id": "3c1f0f79",
   "metadata": {},
   "source": [
    "For more accurate cloud calculations, sometimes we need deeper atmospheres than those commonly provided by evolutionary codes.  In those cases, we can tell carmapy to extend the bottom of the atmosphere adiabatically to a deeper pressure."
   ]
  },
  {
   "cell_type": "code",
   "execution_count": 33,
   "id": "7d9dd58b",
   "metadata": {},
   "outputs": [],
   "source": [
    "carma.extend_atmosphere(1e10)\n"
   ]
  },
  {
   "cell_type": "markdown",
   "id": "7b65c855",
   "metadata": {},
   "source": [
    "Above we extended the atmosphere to a pressure of $10^{10}$ baryes."
   ]
  },
  {
   "cell_type": "markdown",
   "id": "ee0e1831",
   "metadata": {},
   "source": [
    "## Setting Cloud Physics\n",
    "\n",
    "carmapy requires that we tell it which species we should let form.  We do so by adding groups—types of particles that can form.  There are two types of groups:\n",
    "\n",
    "1. Homogeneous Groups: These groups are particles which form via homogeneous nucleation and thus do not need a seed particle to form\n",
    "2. Heterogeneous Groups: These groups are particles which consist of one specie which heterogeneously nucleated onto another specie, the latter of which serves as a seed particle.\n",
    "\n",
    "We can add a homogeneous group and then a heterogeneous group that nucleates on the homogeneous group as follows:"
   ]
  },
  {
   "cell_type": "code",
   "execution_count": 34,
   "id": "0a38d756",
   "metadata": {},
   "outputs": [
    {
     "data": {
      "text/plain": [
       "<carmapy.carmapy.Group at 0x13106e330>"
      ]
     },
     "execution_count": 34,
     "metadata": {},
     "output_type": "execute_result"
    }
   ],
   "source": [
    "carma.add_hom_group(\"TiO2\", 1e-8)\n",
    "carma.add_het_group(\"Mg2SiO4\", \"TiO2\", 1e-8 * 2**(1/3))"
   ]
  },
  {
   "cell_type": "markdown",
   "id": "db08a8a4",
   "metadata": {},
   "source": [
    "`carma.add_hom_group(\"TiO2\", 1e-8)` tells carmapy to allow TiO₂ to homogeneously condense with a minimum radius of $10^{-8}$ cm using the physical properties of TiO₂ preprogrammed into carmapy (some of these properties can be changed: see the documentation for Elements and Gasses once they are written).\n",
    "\n",
    "`carma.add_het_group(\"Mg2SiO4\", \"TiO2\", 1e-8 * 2**(1/3))` similarly tells carmapy to allow Mg₂SiO₄ to heterogeneously condense upon the TiO₂ seed particles in the group above.  This group has a minimum particle radius of $1.41 \\times 10^{-8}$ cm.  Note that a homogeneous group must be created before a heterogeneous group can be defined to condense upon it.\n",
    "\n",
    "Any number of homogeneous and heterogeneous groups can be created, we created only 2 here for simplicity's sake.\n",
    "\n",
    "Unfortunately due to how CARMA was programmed, we are only able to provide a limited selection of species at this time.  You can see the supported species as follows:"
   ]
  },
  {
   "cell_type": "code",
   "execution_count": 35,
   "id": "872c1958",
   "metadata": {},
   "outputs": [
    {
     "name": "stdout",
     "output_type": "stream",
     "text": [
      "['KCl', 'ZnS', 'Na2S', 'MnS', 'Cr', 'Mg2SiO4', 'Fe', 'TiO2', 'Al2O3']\n"
     ]
    }
   ],
   "source": [
    "carmapy.available_species()"
   ]
  },
  {
   "cell_type": "markdown",
   "id": "90e616fe",
   "metadata": {},
   "source": [
    "Additionally, the interaction term, `mucos`, for heterogeneously nucleating particles is only preprogrammed for certain combinations of species.  To see which species a given specie is able to condense upon without manually specifying `mucos` you can run the following code:"
   ]
  },
  {
   "cell_type": "code",
   "execution_count": 36,
   "id": "86058324",
   "metadata": {},
   "outputs": [
    {
     "name": "stdout",
     "output_type": "stream",
     "text": [
      "{'TiO2': 0.995}\n"
     ]
    }
   ],
   "source": [
    "carmapy.included_mucos(\"Mg2SiO4\")"
   ]
  },
  {
   "cell_type": "markdown",
   "id": "c0c88dcf",
   "metadata": {},
   "source": [
    "This indicates that Mg₂SiO₄ has an included interaction term for when it heterogeneously nucleates onto TiO₂.  If this term was not included in carmapy or we wanted to explore how the model changes if this interaction term is weaker we could, instead of running the above code to add groups, uncomment and run the below code:"
   ]
  },
  {
   "cell_type": "code",
   "execution_count": 37,
   "id": "8e785062",
   "metadata": {},
   "outputs": [],
   "source": [
    "# carma.add_hom_group(\"TiO2\", 1e-8)\n",
    "# carma.add_het_group(\"Mg2SiO4\", \"TiO2\", 1e-8 * 2**(1/3), mucos=0.9)"
   ]
  },
  {
   "cell_type": "markdown",
   "id": "cbe9ef90",
   "metadata": {},
   "source": [
    "## Atmospheric Composition"
   ]
  },
  {
   "cell_type": "markdown",
   "id": "0d4675f3",
   "metadata": {},
   "source": [
    "We finaly need to tell carma the gas abundances for each gas resevoir that is limiting for each species.  (The limiting gas for each specie has defaults hard-coded—see the defaults documentation page once it is written).  The most common way to do that is to calculate the gas abundance at the base of each clouds—the place where the saturation vapor pressure for the specie reaches the atmospheric pressure—and consider that the gas mixing ratio of the specie at the bottom of the atmopshere.  Included in carmapy is a helper function which uses [fastchem](https://github.com/newstrangeworlds/fastchem) to calculate the abundances given a metallicity"
   ]
  },
  {
   "cell_type": "code",
   "execution_count": 38,
   "id": "6520f6e7",
   "metadata": {},
   "outputs": [],
   "source": [
    "carmapy.chemistry.populate_abundances_at_cloud_base(carma, metalicity=1)"
   ]
  },
  {
   "cell_type": "markdown",
   "id": "9af76031",
   "metadata": {},
   "source": [
    "Note that `metallicity` is *not* a log metallicity.  `metallicity=1` corresponds with solar metallicity."
   ]
  },
  {
   "cell_type": "markdown",
   "id": "e0901b1d",
   "metadata": {},
   "source": [
    "## Running the model"
   ]
  },
  {
   "cell_type": "markdown",
   "id": "6f65ce2c",
   "metadata": {},
   "source": [
    "Now the model is setup it is simple to run the model:"
   ]
  },
  {
   "cell_type": "code",
   "execution_count": 39,
   "id": "cf2fefc1",
   "metadata": {},
   "outputs": [],
   "source": [
    "carma.run(suppress_output=True)"
   ]
  },
  {
   "cell_type": "markdown",
   "id": "903e0de3",
   "metadata": {},
   "source": [
    "Feel free to remove the `suppress_output=True` statement, it is just there to stop this notebook from being cluttered with print statements.  Note that when you call `carma.run()` a directory with the name `\"my_first_carma\"` should have been created.  The directory stores the state of the model along with the model output—do not move or delete it while the model is running.  The next tutorial will go over how to read the output from that directory."
   ]
  }
 ],
 "metadata": {
  "kernelspec": {
   "display_name": "test",
   "language": "python",
   "name": "python3"
  },
  "language_info": {
   "codemirror_mode": {
    "name": "ipython",
    "version": 3
   },
   "file_extension": ".py",
   "mimetype": "text/x-python",
   "name": "python",
   "nbconvert_exporter": "python",
   "pygments_lexer": "ipython3",
   "version": "3.13.5"
  }
 },
 "nbformat": 4,
 "nbformat_minor": 5
}
